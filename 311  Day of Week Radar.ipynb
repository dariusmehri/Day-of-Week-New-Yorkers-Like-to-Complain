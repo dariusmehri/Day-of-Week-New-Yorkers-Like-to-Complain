{
 "cells": [
  {
   "cell_type": "markdown",
   "metadata": {},
   "source": [
    "RADAR PLOTS"
   ]
  },
  {
   "cell_type": "code",
   "execution_count": 56,
   "metadata": {},
   "outputs": [],
   "source": [
    "import pandas as pd\n",
    "path = \"C:\\\\Users\\\\dmehri\\\\Documents\\\\DATA\\\\311 Analysis\\\\\"\n",
    "df = pd.read_csv(path + \"311_Service_Requests_2020_small.csv\", low_memory=False)\n",
    "df[\"Year\"] = \"2020\""
   ]
  },
  {
   "cell_type": "markdown",
   "metadata": {},
   "source": [
    "Day of Week"
   ]
  },
  {
   "cell_type": "code",
   "execution_count": 57,
   "metadata": {},
   "outputs": [],
   "source": [
    "#df[\"Descriptor\"] = df[\"Descriptor\"].astype(str)\n",
    "#ctype = sorted(list(set( df[\"Complaint Type\"].tolist() )))\n",
    "\n",
    "df['Created Date'] = pd.to_datetime(df['Created Date'])\n",
    "\n",
    "df['Day of Week'] = df['Created Date'].dt.weekday_name"
   ]
  },
  {
   "cell_type": "code",
   "execution_count": 52,
   "metadata": {},
   "outputs": [
    {
     "name": "stderr",
     "output_type": "stream",
     "text": [
      "C:\\Users\\dmehri\\AppData\\Local\\Continuum\\anaconda3\\lib\\site-packages\\ipykernel_launcher.py:2: SettingWithCopyWarning: \n",
      "A value is trying to be set on a copy of a slice from a DataFrame.\n",
      "Try using .loc[row_indexer,col_indexer] = value instead\n",
      "\n",
      "See the caveats in the documentation: http://pandas.pydata.org/pandas-docs/stable/indexing.html#indexing-view-versus-copy\n",
      "  \n"
     ]
    }
   ],
   "source": [
    "df2 = df[[\"Day of Week\", \"Agency\"]]\n",
    "df2[\"Count\"] = 1\n",
    "df2 = df2.groupby(['Day of Week', 'Agency']).sum()\n",
    "df2 = df2.add_suffix('').reset_index()"
   ]
  },
  {
   "cell_type": "code",
   "execution_count": 55,
   "metadata": {},
   "outputs": [],
   "source": [
    "df2.to_csv(path + \"311 Complaints by Day and Agency 2019.csv\", index=False)"
   ]
  },
  {
   "cell_type": "code",
   "execution_count": 59,
   "metadata": {},
   "outputs": [],
   "source": [
    "#df3 = df2.copy()\n",
    "#df3.index = df3[\"Day of Week\"]\n",
    "\n",
    "#df3 = df3.reindex([\"Monday\", \"Tuesday\", \"Wednesday\", \"Thursday\", \"Friday\", \"Saturday\", \"Sunday\"])\n",
    "\n",
    "#df3.to_csv(path + \"311 Count by Days of Week 2019.csv\", index=False)"
   ]
  },
  {
   "cell_type": "code",
   "execution_count": null,
   "metadata": {},
   "outputs": [],
   "source": []
  }
 ],
 "metadata": {
  "kernelspec": {
   "display_name": "Python 3",
   "language": "python",
   "name": "python3"
  },
  "language_info": {
   "codemirror_mode": {
    "name": "ipython",
    "version": 3
   },
   "file_extension": ".py",
   "mimetype": "text/x-python",
   "name": "python",
   "nbconvert_exporter": "python",
   "pygments_lexer": "ipython3",
   "version": "3.6.4"
  }
 },
 "nbformat": 4,
 "nbformat_minor": 2
}
